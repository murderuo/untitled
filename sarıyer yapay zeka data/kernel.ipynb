{
  "cells": [
    {
      "metadata": {
        "_uuid": "8f2839f25d086af736a60e9eeb907d3b93b6e0e5",
        "_cell_guid": "b1076dfc-b9ad-4769-8c92-a6c4dae69d19",
        "trusted": true
      },
      "cell_type": "code",
      "source": "import numpy as np # linear algebra\nimport pandas as pd # data processing, CSV file I/O (e.g. pd.read_csv)\n\n# Input data files are available in the \"../input/\" directory.\n# For example, running this (by clicking run or pressing Shift+Enter) will list the files in the input directory\n\nimport os\nprint(os.listdir(\"../input\"))\n\n# Any results you write to the current directory are saved as output.",
      "execution_count": 1,
      "outputs": [
        {
          "output_type": "stream",
          "text": "['avocado.csv']\n",
          "name": "stdout"
        }
      ]
    },
    {
      "metadata": {
        "_cell_guid": "79c7e3d0-c299-4dcb-8224-4455121ee9b0",
        "_uuid": "d629ff2d2480ee46fbb7e2d37f6b5fab8052498a",
        "trusted": true
      },
      "cell_type": "code",
      "source": "data=pd.read_csv(\"../input/avocado.csv\")\n\ndata.head(10)",
      "execution_count": 2,
      "outputs": [
        {
          "output_type": "execute_result",
          "execution_count": 2,
          "data": {
            "text/plain": "   Unnamed: 0        Date  AveragePrice   ...            type  year  region\n0           0  2015-12-27          1.33   ...    conventional  2015  Albany\n1           1  2015-12-20          1.35   ...    conventional  2015  Albany\n2           2  2015-12-13          0.93   ...    conventional  2015  Albany\n3           3  2015-12-06          1.08   ...    conventional  2015  Albany\n4           4  2015-11-29          1.28   ...    conventional  2015  Albany\n5           5  2015-11-22          1.26   ...    conventional  2015  Albany\n6           6  2015-11-15          0.99   ...    conventional  2015  Albany\n7           7  2015-11-08          0.98   ...    conventional  2015  Albany\n8           8  2015-11-01          1.02   ...    conventional  2015  Albany\n9           9  2015-10-25          1.07   ...    conventional  2015  Albany\n\n[10 rows x 14 columns]",
            "text/html": "<div>\n<style scoped>\n    .dataframe tbody tr th:only-of-type {\n        vertical-align: middle;\n    }\n\n    .dataframe tbody tr th {\n        vertical-align: top;\n    }\n\n    .dataframe thead th {\n        text-align: right;\n    }\n</style>\n<table border=\"1\" class=\"dataframe\">\n  <thead>\n    <tr style=\"text-align: right;\">\n      <th></th>\n      <th>Unnamed: 0</th>\n      <th>Date</th>\n      <th>AveragePrice</th>\n      <th>Total Volume</th>\n      <th>4046</th>\n      <th>4225</th>\n      <th>4770</th>\n      <th>Total Bags</th>\n      <th>Small Bags</th>\n      <th>Large Bags</th>\n      <th>XLarge Bags</th>\n      <th>type</th>\n      <th>year</th>\n      <th>region</th>\n    </tr>\n  </thead>\n  <tbody>\n    <tr>\n      <th>0</th>\n      <td>0</td>\n      <td>2015-12-27</td>\n      <td>1.33</td>\n      <td>64236.62</td>\n      <td>1036.74</td>\n      <td>54454.85</td>\n      <td>48.16</td>\n      <td>8696.87</td>\n      <td>8603.62</td>\n      <td>93.25</td>\n      <td>0.0</td>\n      <td>conventional</td>\n      <td>2015</td>\n      <td>Albany</td>\n    </tr>\n    <tr>\n      <th>1</th>\n      <td>1</td>\n      <td>2015-12-20</td>\n      <td>1.35</td>\n      <td>54876.98</td>\n      <td>674.28</td>\n      <td>44638.81</td>\n      <td>58.33</td>\n      <td>9505.56</td>\n      <td>9408.07</td>\n      <td>97.49</td>\n      <td>0.0</td>\n      <td>conventional</td>\n      <td>2015</td>\n      <td>Albany</td>\n    </tr>\n    <tr>\n      <th>2</th>\n      <td>2</td>\n      <td>2015-12-13</td>\n      <td>0.93</td>\n      <td>118220.22</td>\n      <td>794.70</td>\n      <td>109149.67</td>\n      <td>130.50</td>\n      <td>8145.35</td>\n      <td>8042.21</td>\n      <td>103.14</td>\n      <td>0.0</td>\n      <td>conventional</td>\n      <td>2015</td>\n      <td>Albany</td>\n    </tr>\n    <tr>\n      <th>3</th>\n      <td>3</td>\n      <td>2015-12-06</td>\n      <td>1.08</td>\n      <td>78992.15</td>\n      <td>1132.00</td>\n      <td>71976.41</td>\n      <td>72.58</td>\n      <td>5811.16</td>\n      <td>5677.40</td>\n      <td>133.76</td>\n      <td>0.0</td>\n      <td>conventional</td>\n      <td>2015</td>\n      <td>Albany</td>\n    </tr>\n    <tr>\n      <th>4</th>\n      <td>4</td>\n      <td>2015-11-29</td>\n      <td>1.28</td>\n      <td>51039.60</td>\n      <td>941.48</td>\n      <td>43838.39</td>\n      <td>75.78</td>\n      <td>6183.95</td>\n      <td>5986.26</td>\n      <td>197.69</td>\n      <td>0.0</td>\n      <td>conventional</td>\n      <td>2015</td>\n      <td>Albany</td>\n    </tr>\n    <tr>\n      <th>5</th>\n      <td>5</td>\n      <td>2015-11-22</td>\n      <td>1.26</td>\n      <td>55979.78</td>\n      <td>1184.27</td>\n      <td>48067.99</td>\n      <td>43.61</td>\n      <td>6683.91</td>\n      <td>6556.47</td>\n      <td>127.44</td>\n      <td>0.0</td>\n      <td>conventional</td>\n      <td>2015</td>\n      <td>Albany</td>\n    </tr>\n    <tr>\n      <th>6</th>\n      <td>6</td>\n      <td>2015-11-15</td>\n      <td>0.99</td>\n      <td>83453.76</td>\n      <td>1368.92</td>\n      <td>73672.72</td>\n      <td>93.26</td>\n      <td>8318.86</td>\n      <td>8196.81</td>\n      <td>122.05</td>\n      <td>0.0</td>\n      <td>conventional</td>\n      <td>2015</td>\n      <td>Albany</td>\n    </tr>\n    <tr>\n      <th>7</th>\n      <td>7</td>\n      <td>2015-11-08</td>\n      <td>0.98</td>\n      <td>109428.33</td>\n      <td>703.75</td>\n      <td>101815.36</td>\n      <td>80.00</td>\n      <td>6829.22</td>\n      <td>6266.85</td>\n      <td>562.37</td>\n      <td>0.0</td>\n      <td>conventional</td>\n      <td>2015</td>\n      <td>Albany</td>\n    </tr>\n    <tr>\n      <th>8</th>\n      <td>8</td>\n      <td>2015-11-01</td>\n      <td>1.02</td>\n      <td>99811.42</td>\n      <td>1022.15</td>\n      <td>87315.57</td>\n      <td>85.34</td>\n      <td>11388.36</td>\n      <td>11104.53</td>\n      <td>283.83</td>\n      <td>0.0</td>\n      <td>conventional</td>\n      <td>2015</td>\n      <td>Albany</td>\n    </tr>\n    <tr>\n      <th>9</th>\n      <td>9</td>\n      <td>2015-10-25</td>\n      <td>1.07</td>\n      <td>74338.76</td>\n      <td>842.40</td>\n      <td>64757.44</td>\n      <td>113.00</td>\n      <td>8625.92</td>\n      <td>8061.47</td>\n      <td>564.45</td>\n      <td>0.0</td>\n      <td>conventional</td>\n      <td>2015</td>\n      <td>Albany</td>\n    </tr>\n  </tbody>\n</table>\n</div>"
          },
          "metadata": {}
        }
      ]
    },
    {
      "metadata": {
        "trusted": true,
        "_uuid": "ca161abe389fd21c4ac769e244da556dbefb597e"
      },
      "cell_type": "code",
      "source": "data.columns=[i.replace(\" \",\"_\") for i in data.columns]\ndata.columns=[i.replace(\":\",\"\") for i in data.columns]\ndata.columns=[i.lower() for i in data.columns]\ndata.columns=[i.replace(\"unnamed_0\",\"number\") for i in data.columns]\n\n\n    \n    \ndata.columns\n",
      "execution_count": 3,
      "outputs": [
        {
          "output_type": "execute_result",
          "execution_count": 3,
          "data": {
            "text/plain": "Index(['number', 'date', 'averageprice', 'total_volume', '4046', '4225',\n       '4770', 'total_bags', 'small_bags', 'large_bags', 'xlarge_bags', 'type',\n       'year', 'region'],\n      dtype='object')"
          },
          "metadata": {}
        }
      ]
    },
    {
      "metadata": {
        "trusted": true,
        "_uuid": "37be7e60187e1f6fa4c0740c169fc29d399dacb9"
      },
      "cell_type": "code",
      "source": "cropped_data=data.head(15)\n\ncropped_data",
      "execution_count": 4,
      "outputs": [
        {
          "output_type": "execute_result",
          "execution_count": 4,
          "data": {
            "text/plain": "    number        date  averageprice   ...            type  year  region\n0        0  2015-12-27          1.33   ...    conventional  2015  Albany\n1        1  2015-12-20          1.35   ...    conventional  2015  Albany\n2        2  2015-12-13          0.93   ...    conventional  2015  Albany\n3        3  2015-12-06          1.08   ...    conventional  2015  Albany\n4        4  2015-11-29          1.28   ...    conventional  2015  Albany\n5        5  2015-11-22          1.26   ...    conventional  2015  Albany\n6        6  2015-11-15          0.99   ...    conventional  2015  Albany\n7        7  2015-11-08          0.98   ...    conventional  2015  Albany\n8        8  2015-11-01          1.02   ...    conventional  2015  Albany\n9        9  2015-10-25          1.07   ...    conventional  2015  Albany\n10      10  2015-10-18          1.12   ...    conventional  2015  Albany\n11      11  2015-10-11          1.28   ...    conventional  2015  Albany\n12      12  2015-10-04          1.31   ...    conventional  2015  Albany\n13      13  2015-09-27          0.99   ...    conventional  2015  Albany\n14      14  2015-09-20          1.33   ...    conventional  2015  Albany\n\n[15 rows x 14 columns]",
            "text/html": "<div>\n<style scoped>\n    .dataframe tbody tr th:only-of-type {\n        vertical-align: middle;\n    }\n\n    .dataframe tbody tr th {\n        vertical-align: top;\n    }\n\n    .dataframe thead th {\n        text-align: right;\n    }\n</style>\n<table border=\"1\" class=\"dataframe\">\n  <thead>\n    <tr style=\"text-align: right;\">\n      <th></th>\n      <th>number</th>\n      <th>date</th>\n      <th>averageprice</th>\n      <th>total_volume</th>\n      <th>4046</th>\n      <th>4225</th>\n      <th>4770</th>\n      <th>total_bags</th>\n      <th>small_bags</th>\n      <th>large_bags</th>\n      <th>xlarge_bags</th>\n      <th>type</th>\n      <th>year</th>\n      <th>region</th>\n    </tr>\n  </thead>\n  <tbody>\n    <tr>\n      <th>0</th>\n      <td>0</td>\n      <td>2015-12-27</td>\n      <td>1.33</td>\n      <td>64236.62</td>\n      <td>1036.74</td>\n      <td>54454.85</td>\n      <td>48.16</td>\n      <td>8696.87</td>\n      <td>8603.62</td>\n      <td>93.25</td>\n      <td>0.0</td>\n      <td>conventional</td>\n      <td>2015</td>\n      <td>Albany</td>\n    </tr>\n    <tr>\n      <th>1</th>\n      <td>1</td>\n      <td>2015-12-20</td>\n      <td>1.35</td>\n      <td>54876.98</td>\n      <td>674.28</td>\n      <td>44638.81</td>\n      <td>58.33</td>\n      <td>9505.56</td>\n      <td>9408.07</td>\n      <td>97.49</td>\n      <td>0.0</td>\n      <td>conventional</td>\n      <td>2015</td>\n      <td>Albany</td>\n    </tr>\n    <tr>\n      <th>2</th>\n      <td>2</td>\n      <td>2015-12-13</td>\n      <td>0.93</td>\n      <td>118220.22</td>\n      <td>794.70</td>\n      <td>109149.67</td>\n      <td>130.50</td>\n      <td>8145.35</td>\n      <td>8042.21</td>\n      <td>103.14</td>\n      <td>0.0</td>\n      <td>conventional</td>\n      <td>2015</td>\n      <td>Albany</td>\n    </tr>\n    <tr>\n      <th>3</th>\n      <td>3</td>\n      <td>2015-12-06</td>\n      <td>1.08</td>\n      <td>78992.15</td>\n      <td>1132.00</td>\n      <td>71976.41</td>\n      <td>72.58</td>\n      <td>5811.16</td>\n      <td>5677.40</td>\n      <td>133.76</td>\n      <td>0.0</td>\n      <td>conventional</td>\n      <td>2015</td>\n      <td>Albany</td>\n    </tr>\n    <tr>\n      <th>4</th>\n      <td>4</td>\n      <td>2015-11-29</td>\n      <td>1.28</td>\n      <td>51039.60</td>\n      <td>941.48</td>\n      <td>43838.39</td>\n      <td>75.78</td>\n      <td>6183.95</td>\n      <td>5986.26</td>\n      <td>197.69</td>\n      <td>0.0</td>\n      <td>conventional</td>\n      <td>2015</td>\n      <td>Albany</td>\n    </tr>\n    <tr>\n      <th>5</th>\n      <td>5</td>\n      <td>2015-11-22</td>\n      <td>1.26</td>\n      <td>55979.78</td>\n      <td>1184.27</td>\n      <td>48067.99</td>\n      <td>43.61</td>\n      <td>6683.91</td>\n      <td>6556.47</td>\n      <td>127.44</td>\n      <td>0.0</td>\n      <td>conventional</td>\n      <td>2015</td>\n      <td>Albany</td>\n    </tr>\n    <tr>\n      <th>6</th>\n      <td>6</td>\n      <td>2015-11-15</td>\n      <td>0.99</td>\n      <td>83453.76</td>\n      <td>1368.92</td>\n      <td>73672.72</td>\n      <td>93.26</td>\n      <td>8318.86</td>\n      <td>8196.81</td>\n      <td>122.05</td>\n      <td>0.0</td>\n      <td>conventional</td>\n      <td>2015</td>\n      <td>Albany</td>\n    </tr>\n    <tr>\n      <th>7</th>\n      <td>7</td>\n      <td>2015-11-08</td>\n      <td>0.98</td>\n      <td>109428.33</td>\n      <td>703.75</td>\n      <td>101815.36</td>\n      <td>80.00</td>\n      <td>6829.22</td>\n      <td>6266.85</td>\n      <td>562.37</td>\n      <td>0.0</td>\n      <td>conventional</td>\n      <td>2015</td>\n      <td>Albany</td>\n    </tr>\n    <tr>\n      <th>8</th>\n      <td>8</td>\n      <td>2015-11-01</td>\n      <td>1.02</td>\n      <td>99811.42</td>\n      <td>1022.15</td>\n      <td>87315.57</td>\n      <td>85.34</td>\n      <td>11388.36</td>\n      <td>11104.53</td>\n      <td>283.83</td>\n      <td>0.0</td>\n      <td>conventional</td>\n      <td>2015</td>\n      <td>Albany</td>\n    </tr>\n    <tr>\n      <th>9</th>\n      <td>9</td>\n      <td>2015-10-25</td>\n      <td>1.07</td>\n      <td>74338.76</td>\n      <td>842.40</td>\n      <td>64757.44</td>\n      <td>113.00</td>\n      <td>8625.92</td>\n      <td>8061.47</td>\n      <td>564.45</td>\n      <td>0.0</td>\n      <td>conventional</td>\n      <td>2015</td>\n      <td>Albany</td>\n    </tr>\n    <tr>\n      <th>10</th>\n      <td>10</td>\n      <td>2015-10-18</td>\n      <td>1.12</td>\n      <td>84843.44</td>\n      <td>924.86</td>\n      <td>75595.85</td>\n      <td>117.07</td>\n      <td>8205.66</td>\n      <td>7877.86</td>\n      <td>327.80</td>\n      <td>0.0</td>\n      <td>conventional</td>\n      <td>2015</td>\n      <td>Albany</td>\n    </tr>\n    <tr>\n      <th>11</th>\n      <td>11</td>\n      <td>2015-10-11</td>\n      <td>1.28</td>\n      <td>64489.17</td>\n      <td>1582.03</td>\n      <td>52677.92</td>\n      <td>105.32</td>\n      <td>10123.90</td>\n      <td>9866.27</td>\n      <td>257.63</td>\n      <td>0.0</td>\n      <td>conventional</td>\n      <td>2015</td>\n      <td>Albany</td>\n    </tr>\n    <tr>\n      <th>12</th>\n      <td>12</td>\n      <td>2015-10-04</td>\n      <td>1.31</td>\n      <td>61007.10</td>\n      <td>2268.32</td>\n      <td>49880.67</td>\n      <td>101.36</td>\n      <td>8756.75</td>\n      <td>8379.98</td>\n      <td>376.77</td>\n      <td>0.0</td>\n      <td>conventional</td>\n      <td>2015</td>\n      <td>Albany</td>\n    </tr>\n    <tr>\n      <th>13</th>\n      <td>13</td>\n      <td>2015-09-27</td>\n      <td>0.99</td>\n      <td>106803.39</td>\n      <td>1204.88</td>\n      <td>99409.21</td>\n      <td>154.84</td>\n      <td>6034.46</td>\n      <td>5888.87</td>\n      <td>145.59</td>\n      <td>0.0</td>\n      <td>conventional</td>\n      <td>2015</td>\n      <td>Albany</td>\n    </tr>\n    <tr>\n      <th>14</th>\n      <td>14</td>\n      <td>2015-09-20</td>\n      <td>1.33</td>\n      <td>69759.01</td>\n      <td>1028.03</td>\n      <td>59313.12</td>\n      <td>150.50</td>\n      <td>9267.36</td>\n      <td>8489.10</td>\n      <td>778.26</td>\n      <td>0.0</td>\n      <td>conventional</td>\n      <td>2015</td>\n      <td>Albany</td>\n    </tr>\n  </tbody>\n</table>\n</div>"
          },
          "metadata": {}
        }
      ]
    },
    {
      "metadata": {
        "trusted": true,
        "_uuid": "c2490a3c42dacd6c84dfcf6598cbf10faee7da4f"
      },
      "cell_type": "code",
      "source": "d_data=cropped_data.drop(columns=[\"date\",\"4770\",\"total_bags\",\"small_bags\",\"xlarge_bags\",\"type\",\"year\",\"region\"])\n\nd_data=d_data.drop(columns=\"large_bags\")\n\nd_data\nd_data.columns",
      "execution_count": 5,
      "outputs": [
        {
          "output_type": "execute_result",
          "execution_count": 5,
          "data": {
            "text/plain": "Index(['number', 'averageprice', 'total_volume', '4046', '4225'], dtype='object')"
          },
          "metadata": {}
        }
      ]
    },
    {
      "metadata": {
        "trusted": true,
        "_uuid": "56b3616742a0025129a2b5607cae5fd0ae6a04f9"
      },
      "cell_type": "code",
      "source": "averageprice=input(\"Value of your average price column: \")\ntotal_volume=input(\"Value of your total volume column: \")\nff6=input(\"Value of your 4046 column: \")\nf2t5=input(\"Value of your 4225 column: \")\ninput_dict={\"number\":[len(d_data)],\"averageprice\":[averageprice],\"total_volume\":[total_volume],\"4046\":[ff6],\"4225\":[f2t5]}\ninput_data=pd.DataFrame(input_dict)\n\nd_data=d_data.append(input_data,ignore_index=True)\nd_data",
      "execution_count": 6,
      "outputs": [
        {
          "output_type": "stream",
          "name": "stdout",
          "text": "Value of your average price column: 23\nValue of your total volume column: 23\nValue of your 4046 column: 23\nValue of your 4225 column: 23\n"
        },
        {
          "output_type": "execute_result",
          "execution_count": 6,
          "data": {
            "text/plain": "    number averageprice total_volume     4046     4225\n0        0         1.33      64236.6  1036.74  54454.8\n1        1         1.35        54877   674.28  44638.8\n2        2         0.93       118220    794.7   109150\n3        3         1.08      78992.1     1132  71976.4\n4        4         1.28      51039.6   941.48  43838.4\n5        5         1.26      55979.8  1184.27    48068\n6        6         0.99      83453.8  1368.92  73672.7\n7        7         0.98       109428   703.75   101815\n8        8         1.02      99811.4  1022.15  87315.6\n9        9         1.07      74338.8    842.4  64757.4\n10      10         1.12      84843.4   924.86  75595.9\n11      11         1.28      64489.2  1582.03  52677.9\n12      12         1.31      61007.1  2268.32  49880.7\n13      13         0.99       106803  1204.88  99409.2\n14      14         1.33        69759  1028.03  59313.1\n15      15           23           23       23       23",
            "text/html": "<div>\n<style scoped>\n    .dataframe tbody tr th:only-of-type {\n        vertical-align: middle;\n    }\n\n    .dataframe tbody tr th {\n        vertical-align: top;\n    }\n\n    .dataframe thead th {\n        text-align: right;\n    }\n</style>\n<table border=\"1\" class=\"dataframe\">\n  <thead>\n    <tr style=\"text-align: right;\">\n      <th></th>\n      <th>number</th>\n      <th>averageprice</th>\n      <th>total_volume</th>\n      <th>4046</th>\n      <th>4225</th>\n    </tr>\n  </thead>\n  <tbody>\n    <tr>\n      <th>0</th>\n      <td>0</td>\n      <td>1.33</td>\n      <td>64236.6</td>\n      <td>1036.74</td>\n      <td>54454.8</td>\n    </tr>\n    <tr>\n      <th>1</th>\n      <td>1</td>\n      <td>1.35</td>\n      <td>54877</td>\n      <td>674.28</td>\n      <td>44638.8</td>\n    </tr>\n    <tr>\n      <th>2</th>\n      <td>2</td>\n      <td>0.93</td>\n      <td>118220</td>\n      <td>794.7</td>\n      <td>109150</td>\n    </tr>\n    <tr>\n      <th>3</th>\n      <td>3</td>\n      <td>1.08</td>\n      <td>78992.1</td>\n      <td>1132</td>\n      <td>71976.4</td>\n    </tr>\n    <tr>\n      <th>4</th>\n      <td>4</td>\n      <td>1.28</td>\n      <td>51039.6</td>\n      <td>941.48</td>\n      <td>43838.4</td>\n    </tr>\n    <tr>\n      <th>5</th>\n      <td>5</td>\n      <td>1.26</td>\n      <td>55979.8</td>\n      <td>1184.27</td>\n      <td>48068</td>\n    </tr>\n    <tr>\n      <th>6</th>\n      <td>6</td>\n      <td>0.99</td>\n      <td>83453.8</td>\n      <td>1368.92</td>\n      <td>73672.7</td>\n    </tr>\n    <tr>\n      <th>7</th>\n      <td>7</td>\n      <td>0.98</td>\n      <td>109428</td>\n      <td>703.75</td>\n      <td>101815</td>\n    </tr>\n    <tr>\n      <th>8</th>\n      <td>8</td>\n      <td>1.02</td>\n      <td>99811.4</td>\n      <td>1022.15</td>\n      <td>87315.6</td>\n    </tr>\n    <tr>\n      <th>9</th>\n      <td>9</td>\n      <td>1.07</td>\n      <td>74338.8</td>\n      <td>842.4</td>\n      <td>64757.4</td>\n    </tr>\n    <tr>\n      <th>10</th>\n      <td>10</td>\n      <td>1.12</td>\n      <td>84843.4</td>\n      <td>924.86</td>\n      <td>75595.9</td>\n    </tr>\n    <tr>\n      <th>11</th>\n      <td>11</td>\n      <td>1.28</td>\n      <td>64489.2</td>\n      <td>1582.03</td>\n      <td>52677.9</td>\n    </tr>\n    <tr>\n      <th>12</th>\n      <td>12</td>\n      <td>1.31</td>\n      <td>61007.1</td>\n      <td>2268.32</td>\n      <td>49880.7</td>\n    </tr>\n    <tr>\n      <th>13</th>\n      <td>13</td>\n      <td>0.99</td>\n      <td>106803</td>\n      <td>1204.88</td>\n      <td>99409.2</td>\n    </tr>\n    <tr>\n      <th>14</th>\n      <td>14</td>\n      <td>1.33</td>\n      <td>69759</td>\n      <td>1028.03</td>\n      <td>59313.1</td>\n    </tr>\n    <tr>\n      <th>15</th>\n      <td>15</td>\n      <td>23</td>\n      <td>23</td>\n      <td>23</td>\n      <td>23</td>\n    </tr>\n  </tbody>\n</table>\n</div>"
          },
          "metadata": {}
        }
      ]
    },
    {
      "metadata": {
        "_uuid": "8cbdd08d0b812e919671237a30b478c9506301c8"
      },
      "cell_type": "markdown",
      "source": "**SORU 2 CEVAP:**\nMehmet daha mantıklı sorular sormuştur. Çünkü tuttuğumuz sayı 98 olsa idi Ahmet bize 98 kere tuttuğumuz sayıyı soracaktı ve buda uzun sürecekti. Ancak Mehmet in düşüncesinden hareketle; tuttuğumuz sayının 50 olup olmadığını değilse büyük olup olmadığını soracak(adım 1), aldığı cevaba göre kalan sayıların içinden (51-100)bir tahmin daha yapacak. Bu sefer 75 sayısı olup olmadığını değilse büyük olup olmadığını soracak (adım 2). Yine aynı şekilde kalan sayılar arasından tahmin etmeye çalışacak ve 87 sayısı olup olmadığını soracak değilse büyük olup olmadığını soracak (adım 3). Kalan sayıların  (88-100) ortasındaki sayı (94) olup olmadığını soracak (adım 4). Yine yanılırsa bu sefer de kalan sayılardan (95-100) bir tahmin yapacak ve en çok 3 adım daha sonra yani toplamda 6 adımda tahmin ettiğimiz 98 sayısını bulabilecektir."
    },
    {
      "metadata": {
        "_uuid": "04cfdfa5aac1c23461e99299686bfa94a76c41da"
      },
      "cell_type": "markdown",
      "source": "**SORU 4 CEVAP**\n\n1936 daki seçimlerde yanılmasının sebebi ilk olarak çalışma alanının dar olması. Şöyleki; otomobillerin tarih sahnesine çıkışı ile 1936 yılındaki seçim arasında çok bir zaman yok (30 küsür yıl)özellikle o zamanki teknolojiyi düşünürsek o yıldaki araç sahibinin nüfusa oranının az olduğunu düşünüyorum. Aynı şekilde telefon sahiplerinin de . Böylece 1936 yılındaki alınan geri bildirimlerin toplam nüfusa oranı çok azdı. İkinci olarak o tarihte araç ve telefon sahibi olan kişiler  muhtemelen varlıklı kişilerdi. İlk düşüncemde azınlıkta olan bu kişilerin toplumun genel görüşünü ya da hayatını yaşamadığını da varsayabilirim.\n"
    },
    {
      "metadata": {
        "_uuid": "c061d97495ec10a9c0b032d9079854888e6e713a"
      },
      "cell_type": "markdown",
      "source": "**SORU 5 CEVAP\n**\nİşlemi matematiksel fonksiyonda yazamadım ancak pytonda bunu yapabilirim.\n"
    },
    {
      "metadata": {
        "trusted": true,
        "_uuid": "8f48e289d58880777885728afa8ccdb4f9c4c05f"
      },
      "cell_type": "code",
      "source": "def kenar(a,b):\n        if a >b:\n            if a ==b: print(\"karedir\")\n            elif a < 0 and b<0: print(\"pozitif bir değer giriniz.\")\n            else:\n                mod=a%b\n                while mod!=0:\n                    a=b\n                    b=mod\n                    mod=a%b\n                print(b)\n        else:\n            print(\"Kısa uzun kenar değişimi yapılarak hesaplandı\")\n            c=0\n            c=a\n            a=b\n            b=c\n            kenar(a,b)\n\nb=int(input(\"kısa kenarı giriniz: \"))\na=int(input(\"uzun kenarı giriniz: \"))\n\n\nkenar(a,b)",
      "execution_count": 7,
      "outputs": [
        {
          "output_type": "stream",
          "name": "stdout",
          "text": "kısa kenarı giriniz: 12\nuzun kenarı giriniz: 5\nKısa uzun kenar değişimi yapılarak hesaplandı\n1\n"
        }
      ]
    },
    {
      "metadata": {
        "_uuid": "218e0bc435262ac13904fe4fd52784263aadb5e2"
      },
      "cell_type": "markdown",
      "source": "**SORU 6 CEVAP\n**\n![asd](https://i.hizliresim.com/zMbqJB.jpg)"
    },
    {
      "metadata": {
        "_uuid": "24d9601bea44f9c911b0060b753cfc3dfc43b3df"
      },
      "cell_type": "markdown",
      "source": "**SORU 7 CEVAP**\n\nS-eğrisi zaman değişim grafiğini göstermektedir.  Ve bu eğride gözüktüğü gibi mısırların patladıktan sonraki değişimi hariç tutulmuştur. Bu haliyle bence eksik bir grafiktir."
    },
    {
      "metadata": {
        "_uuid": "fa6fe3521c9652d06eb807aa292279471abbb81b"
      },
      "cell_type": "markdown",
      "source": "**SORU 8 CEVAP**\n\nS-eğrisinin bu grafiklere göre avantajı değişimin keskin olmamasıdır."
    },
    {
      "metadata": {
        "_uuid": "bf3a1899cdff26cae41e16e93f9acf6fa1074a47"
      },
      "cell_type": "markdown",
      "source": ""
    },
    {
      "metadata": {
        "_uuid": "20c8c2e9ef5f3aafcf1692391feded6045392bb5"
      },
      "cell_type": "markdown",
      "source": ""
    }
  ],
  "metadata": {
    "kernelspec": {
      "display_name": "Python 3",
      "language": "python",
      "name": "python3"
    },
    "language_info": {
      "name": "python",
      "version": "3.6.6",
      "mimetype": "text/x-python",
      "codemirror_mode": {
        "name": "ipython",
        "version": 3
      },
      "pygments_lexer": "ipython3",
      "nbconvert_exporter": "python",
      "file_extension": ".py"
    }
  },
  "nbformat": 4,
  "nbformat_minor": 1
}